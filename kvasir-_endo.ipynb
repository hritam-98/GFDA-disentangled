{
 "cells": [
  {
   "cell_type": "code",
   "execution_count": 1,
   "id": "authorized-dubai",
   "metadata": {},
   "outputs": [],
   "source": [
    "import torch\n",
    "from Seg import *\n",
    "from utils import *"
   ]
  },
  {
   "cell_type": "code",
   "execution_count": 2,
   "id": "special-diagram",
   "metadata": {},
   "outputs": [],
   "source": [
    "SEED = 124\n",
    "seed_worker, g = set_seed(SEED, desterministic_algorithm=False)"
   ]
  },
  {
   "cell_type": "code",
   "execution_count": 3,
   "id": "christian-student",
   "metadata": {},
   "outputs": [],
   "source": [
    "from functools import partial\n",
    "\n",
    "EXP_NAME = 'kvasir-endo'\n",
    "IMG_SIZE = 224\n",
    "TRAIN_BS = 4*7\n",
    "LR = 1e-2\n",
    "N_EPOCHS = 500\n",
    "ALPHA = 1.0\n",
    "ALPHA_SCHEDULE = True\n",
    "EMB_SIZE = 256\n",
    "BETA = 0.00\n",
    "\n",
    "OPT_FUNC = partial(torch.optim.SGD, lr=LR, momentum=0.95, nesterov=True)\n",
    "LR_SCHEDULER = 'COSINE_LR'\n",
    "\n",
    "\n",
    "# Loss\n",
    "MODE = 'supervised'\n",
    "MARGIN = 0.3\n",
    "MINT_ENT_W = 0.005\n",
    "\n",
    "\n",
    "METRIC = batch_dice_score\n",
    "\n",
    "VALIDATE_EVERY = 50\n",
    "TRAIN_NW = 8\n",
    "\n",
    "def get_training_augmentation(img_size):\n",
    "    train_transform = [\n",
    "        albu.OneOf([\n",
    "            albu.RandomBrightnessContrast(brightness_limit=0.2, contrast_limit=0.2, p=0.5),\n",
    "        ]),\n",
    "        albu.HorizontalFlip(p=0.5),\n",
    "        albu.VerticalFlip(p=0.5),\n",
    "        albu.ShiftScaleRotate(0.05, 0.05, rotate_limit=90, border_mode=cv2.BORDER_CONSTANT, value=0, p=0.2),\n",
    "        albu.SmallestMaxSize(img_size),\n",
    "        albu.CenterCrop(img_size, img_size),\n",
    "    ]\n",
    "    return albu.Compose(train_transform)"
   ]
  },
  {
   "cell_type": "code",
   "execution_count": 4,
   "id": "sitting-guyana",
   "metadata": {},
   "outputs": [],
   "source": [
    "encoder_args = {\n",
    "    \"pretrained\":False,           \n",
    "}\n",
    "decoder_args = {}\n",
    "\n",
    "\n",
    "MODEL = fdaUnet(emb_size=EMB_SIZE, encoder_args=encoder_args)"
   ]
  },
  {
   "cell_type": "code",
   "execution_count": 5,
   "id": "changed-monster",
   "metadata": {},
   "outputs": [],
   "source": [
    "import pandas as pd\n",
    "\n",
    "train = pd.read_csv('data/csv/Kvasir_SEG/train.csv')\n",
    "valid = pd.read_csv('data/csv/EndoTect_2020_Segmentation_Test_Dataset/valid.csv')\n",
    "test = pd.read_csv('data/csv/EndoTect_2020_Segmentation_Test_Dataset/test.csv')\n",
    "\n",
    "data_path = 'data/images/kvasir/'\n",
    "train['image'] = data_path + 'image' + train['image']\n",
    "train['mask'] = data_path + 'mask' + train['mask']\n",
    "\n",
    "train_ds = fdaSegmentationDataset(train, valid, get_training_augmentation, IMG_SIZE)\n",
    "valid_ds = SegmentationDataset(test, get_validation_augmentation, IMG_SIZE, normalize=False)\n",
    "test_ds = SegmentationDataset(test, get_validation_augmentation, IMG_SIZE, normalize=False)"
   ]
  },
  {
   "cell_type": "code",
   "execution_count": null,
   "id": "specific-filename",
   "metadata": {
    "scrolled": true
   },
   "outputs": [],
   "source": [
    "valid_ds.show_img()"
   ]
  },
  {
   "cell_type": "code",
   "execution_count": null,
   "id": "local-franchise",
   "metadata": {
    "scrolled": true
   },
   "outputs": [],
   "source": [
    "train_ds.show_img()"
   ]
  },
  {
   "cell_type": "code",
   "execution_count": 8,
   "id": "clear-biology",
   "metadata": {},
   "outputs": [],
   "source": [
    "from torch.utils.data import DataLoader\n",
    "train_dl = DataLoader(train_ds, batch_size=TRAIN_BS, \n",
    "                      shuffle=True, num_workers=TRAIN_NW, pin_memory=True,\n",
    "                        worker_init_fn=seed_worker,\n",
    "                        generator=g, drop_last=True)\n",
    "valid_dl = DataLoader(valid_ds, batch_size=16, \n",
    "                      num_workers=4, shuffle=False,\n",
    "                     worker_init_fn=seed_worker,\n",
    "                        generator=g, )"
   ]
  },
  {
   "cell_type": "code",
   "execution_count": 9,
   "id": "hourly-stranger",
   "metadata": {},
   "outputs": [],
   "source": [
    "learn = fdaLearner(model=MODEL, data=(train_dl, valid_dl),\n",
    "                    loss=dice_loss, \n",
    "                    name=EXP_NAME, metric=METRIC)"
   ]
  },
  {
   "cell_type": "code",
   "execution_count": 10,
   "id": "nuclear-stock",
   "metadata": {},
   "outputs": [],
   "source": [
    "import torch\n",
    "n_epochs = 1000\n",
    "optim = OPT_FUNC(learn.model.parameters())\n",
    "\n",
    "COSINE_LR = partial(torch.optim.lr_scheduler.CosineAnnealingLR, T_max=len(learn.data[0])*N_EPOCHS)\n",
    "lr_scheduler = eval(LR_SCHEDULER)(optim)"
   ]
  },
  {
   "cell_type": "code",
   "execution_count": 11,
   "id": "brave-softball",
   "metadata": {},
   "outputs": [],
   "source": [
    "fda_loss = fda_loss(mode=MODE, mint_ent_w=MINT_ENT_W, margin=MARGIN)"
   ]
  },
  {
   "cell_type": "code",
   "execution_count": null,
   "id": "academic-writer",
   "metadata": {},
   "outputs": [],
   "source": [
    "learn.fit(1000, optim, lr_scheduler,\n",
    "          fda_loss=fda_loss,\n",
    "          beta=0.01,\n",
    "          contrastive=True,\n",
    "          alpha=1.0, alpha_content=1.0,\n",
    "          schedule_alpha=True,\n",
    "          scheduler_mode='iteration', validate_every=10)#VALIDATE_EVERY)"
   ]
  },
  {
   "cell_type": "code",
   "execution_count": null,
   "id": "configured-silver",
   "metadata": {},
   "outputs": [],
   "source": [
    "test = pd.read_csv('data/csv/EndoTect_2020_Segmentation_Test_Dataset/test.csv')\n",
    "test_ds = SegmentationDataset(test, get_validation_augmentation, IMG_SIZE, normalize=False)\n",
    "test_loader = DataLoader(test_ds, 4, num_workers=4)\n",
    "\n",
    "\n",
    "learn.get_dice_score(test_loader)"
   ]
  },
  {
   "cell_type": "code",
   "execution_count": null,
   "id": "combined-animation",
   "metadata": {},
   "outputs": [],
   "source": []
  }
 ],
 "metadata": {
  "kernelspec": {
   "display_name": "Python 3",
   "language": "python",
   "name": "python3"
  },
  "language_info": {
   "codemirror_mode": {
    "name": "ipython",
    "version": 3
   },
   "file_extension": ".py",
   "mimetype": "text/x-python",
   "name": "python",
   "nbconvert_exporter": "python",
   "pygments_lexer": "ipython3",
   "version": "3.8.5"
  }
 },
 "nbformat": 4,
 "nbformat_minor": 5
}
